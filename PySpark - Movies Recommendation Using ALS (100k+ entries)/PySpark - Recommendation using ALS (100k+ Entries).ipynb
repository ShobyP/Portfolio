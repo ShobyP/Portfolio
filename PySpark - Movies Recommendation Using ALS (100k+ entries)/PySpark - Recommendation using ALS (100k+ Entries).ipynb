{
 "cells": [
  {
   "cell_type": "code",
   "execution_count": 60,
   "metadata": {},
   "outputs": [],
   "source": [
    "#Recommender system using PySpark on Movielens Dataset of 100,836. entries.\n",
    "\n",
    "#importing findspark and applying\n",
    "import findspark\n",
    "findspark.init('/home/shoby/spark-2.4.0-bin-hadoop2.7')\n",
    "\n",
    "#importing pyspark and sparkSession\n",
    "import pyspark\n",
    "from pyspark.sql import SparkSession\n",
    "\n",
    "#creating spark session\n",
    "spark = SparkSession.builder.appName('rec').getOrCreate()\n",
    "\n"
   ]
  },
  {
   "cell_type": "code",
   "execution_count": 71,
   "metadata": {},
   "outputs": [],
   "source": [
    "#Importing ALS - Alternating least squares.\n",
    "from pyspark.ml.recommendation import ALS\n",
    "\n",
    "#Importing rand function to randomize the dataset.\n",
    "from pyspark.sql.functions import rand\n",
    "\n",
    "#Importing Regression evaluator\n",
    "from pyspark.ml.evaluation import RegressionEvaluator"
   ]
  },
  {
   "cell_type": "code",
   "execution_count": 72,
   "metadata": {},
   "outputs": [],
   "source": [
    "#Importing Data, ratings2 contains 100,836. entries of movies ratings. \n",
    "\n",
    "data = spark.read.csv('ratings2.csv', inferSchema = True, header = True)"
   ]
  },
  {
   "cell_type": "code",
   "execution_count": 73,
   "metadata": {},
   "outputs": [],
   "source": [
    "#Importing correspoding movies name file.\n",
    "\n",
    "movieLabels = spark.read.csv('movies2.csv', inferSchema=True, header = True)"
   ]
  },
  {
   "cell_type": "code",
   "execution_count": 74,
   "metadata": {},
   "outputs": [
    {
     "name": "stdout",
     "output_type": "stream",
     "text": [
      "+------+-------+------+---------+\n",
      "|userId|movieId|rating|timestamp|\n",
      "+------+-------+------+---------+\n",
      "|     1|      1|   4.0|964982703|\n",
      "|     1|      3|   4.0|964981247|\n",
      "|     1|      6|   4.0|964982224|\n",
      "|     1|     47|   5.0|964983815|\n",
      "|     1|     50|   5.0|964982931|\n",
      "|     1|     70|   3.0|964982400|\n",
      "|     1|    101|   5.0|964980868|\n",
      "|     1|    110|   4.0|964982176|\n",
      "|     1|    151|   5.0|964984041|\n",
      "|     1|    157|   5.0|964984100|\n",
      "|     1|    163|   5.0|964983650|\n",
      "|     1|    216|   5.0|964981208|\n",
      "|     1|    223|   3.0|964980985|\n",
      "|     1|    231|   5.0|964981179|\n",
      "|     1|    235|   4.0|964980908|\n",
      "|     1|    260|   5.0|964981680|\n",
      "|     1|    296|   3.0|964982967|\n",
      "|     1|    316|   3.0|964982310|\n",
      "|     1|    333|   5.0|964981179|\n",
      "|     1|    349|   4.0|964982563|\n",
      "+------+-------+------+---------+\n",
      "only showing top 20 rows\n",
      "\n"
     ]
    }
   ],
   "source": [
    "#Checking how data looks like.\n",
    "\n",
    "data.show()"
   ]
  },
  {
   "cell_type": "code",
   "execution_count": 75,
   "metadata": {},
   "outputs": [],
   "source": [
    "#Drop timestamp data. I am not using timestamp feature in my analysis.\n",
    "\n",
    "data = data.drop('timestamp')"
   ]
  },
  {
   "cell_type": "code",
   "execution_count": 76,
   "metadata": {},
   "outputs": [
    {
     "name": "stdout",
     "output_type": "stream",
     "text": [
      "+-------+--------------------+--------------------+\n",
      "|movieId|               title|              genres|\n",
      "+-------+--------------------+--------------------+\n",
      "|      1|    Toy Story (1995)|Adventure|Animati...|\n",
      "|      2|      Jumanji (1995)|Adventure|Childre...|\n",
      "|      3|Grumpier Old Men ...|      Comedy|Romance|\n",
      "|      4|Waiting to Exhale...|Comedy|Drama|Romance|\n",
      "|      5|Father of the Bri...|              Comedy|\n",
      "|      6|         Heat (1995)|Action|Crime|Thri...|\n",
      "|      7|      Sabrina (1995)|      Comedy|Romance|\n",
      "|      8| Tom and Huck (1995)|  Adventure|Children|\n",
      "|      9| Sudden Death (1995)|              Action|\n",
      "|     10|    GoldenEye (1995)|Action|Adventure|...|\n",
      "|     11|American Presiden...|Comedy|Drama|Romance|\n",
      "|     12|Dracula: Dead and...|       Comedy|Horror|\n",
      "|     13|        Balto (1995)|Adventure|Animati...|\n",
      "|     14|        Nixon (1995)|               Drama|\n",
      "|     15|Cutthroat Island ...|Action|Adventure|...|\n",
      "|     16|       Casino (1995)|         Crime|Drama|\n",
      "|     17|Sense and Sensibi...|       Drama|Romance|\n",
      "|     18|   Four Rooms (1995)|              Comedy|\n",
      "|     19|Ace Ventura: When...|              Comedy|\n",
      "|     20|  Money Train (1995)|Action|Comedy|Cri...|\n",
      "+-------+--------------------+--------------------+\n",
      "only showing top 20 rows\n",
      "\n"
     ]
    }
   ],
   "source": [
    "#Checking how movieLabels data looks like.\n",
    "\n",
    "movieLabels.show()"
   ]
  },
  {
   "cell_type": "code",
   "execution_count": 77,
   "metadata": {},
   "outputs": [],
   "source": [
    "#Drop genres data as not needed.\n",
    "\n",
    "movieLabels = movieLabels.drop('genres')"
   ]
  },
  {
   "cell_type": "code",
   "execution_count": 78,
   "metadata": {},
   "outputs": [],
   "source": [
    "#Joining user data and movies labels.\n",
    "\n",
    "data = data.join(movieLabels, on = 'movieId')"
   ]
  },
  {
   "cell_type": "code",
   "execution_count": 80,
   "metadata": {},
   "outputs": [
    {
     "name": "stdout",
     "output_type": "stream",
     "text": [
      "+-------+------+------+-----------------------------------------+\n",
      "|movieId|userId|rating|title                                    |\n",
      "+-------+------+------+-----------------------------------------+\n",
      "|1      |1     |4.0   |Toy Story (1995)                         |\n",
      "|3      |1     |4.0   |Grumpier Old Men (1995)                  |\n",
      "|6      |1     |4.0   |Heat (1995)                              |\n",
      "|47     |1     |5.0   |Seven (a.k.a. Se7en) (1995)              |\n",
      "|50     |1     |5.0   |Usual Suspects, The (1995)               |\n",
      "|70     |1     |3.0   |From Dusk Till Dawn (1996)               |\n",
      "|101    |1     |5.0   |Bottle Rocket (1996)                     |\n",
      "|110    |1     |4.0   |Braveheart (1995)                        |\n",
      "|151    |1     |5.0   |Rob Roy (1995)                           |\n",
      "|157    |1     |5.0   |Canadian Bacon (1995)                    |\n",
      "|163    |1     |5.0   |Desperado (1995)                         |\n",
      "|216    |1     |5.0   |Billy Madison (1995)                     |\n",
      "|223    |1     |3.0   |Clerks (1994)                            |\n",
      "|231    |1     |5.0   |Dumb & Dumber (Dumb and Dumber) (1994)   |\n",
      "|235    |1     |4.0   |Ed Wood (1994)                           |\n",
      "|260    |1     |5.0   |Star Wars: Episode IV - A New Hope (1977)|\n",
      "|296    |1     |3.0   |Pulp Fiction (1994)                      |\n",
      "|316    |1     |3.0   |Stargate (1994)                          |\n",
      "|333    |1     |5.0   |Tommy Boy (1995)                         |\n",
      "|349    |1     |4.0   |Clear and Present Danger (1994)          |\n",
      "+-------+------+------+-----------------------------------------+\n",
      "only showing top 20 rows\n",
      "\n"
     ]
    }
   ],
   "source": [
    "#Checking the data output after joining.\n",
    "\n",
    "data.show(truncate = False)"
   ]
  },
  {
   "cell_type": "code",
   "execution_count": 81,
   "metadata": {},
   "outputs": [],
   "source": [
    "#Randomizing the dataset.\n",
    "\n",
    "data = data.orderBy(rand())"
   ]
  },
  {
   "cell_type": "code",
   "execution_count": 83,
   "metadata": {},
   "outputs": [
    {
     "name": "stdout",
     "output_type": "stream",
     "text": [
      "+-------+------+------+---------------------------------------------+\n",
      "|movieId|userId|rating|title                                        |\n",
      "+-------+------+------+---------------------------------------------+\n",
      "|162350 |596   |4.0   |The Magnificent Seven (2016)                 |\n",
      "|1258   |288   |3.0   |Shining, The (1980)                          |\n",
      "|86347  |522   |5.0   |Louis C.K.: Chewed Up (2008)                 |\n",
      "|2407   |42    |4.0   |Cocoon (1985)                                |\n",
      "|58347  |563   |2.0   |Penelope (2006)                              |\n",
      "|7366   |232   |3.0   |Jersey Girl (2004)                           |\n",
      "|4121   |4     |4.0   |Innerspace (1987)                            |\n",
      "|184997 |596   |4.0   |Love, Simon (2018)                           |\n",
      "|318    |274   |4.5   |Shawshank Redemption, The (1994)             |\n",
      "|296    |5     |5.0   |Pulp Fiction (1994)                          |\n",
      "|590    |580   |4.0   |Dances with Wolves (1990)                    |\n",
      "|590    |376   |3.5   |Dances with Wolves (1990)                    |\n",
      "|3683   |195   |3.0   |Blood Simple (1984)                          |\n",
      "|909    |177   |5.0   |Apartment, The (1960)                        |\n",
      "|5388   |64    |3.5   |Insomnia (2002)                              |\n",
      "|416    |536   |3.0   |Bad Girls (1994)                             |\n",
      "|51834  |506   |3.0   |Becoming Jane (2007)                         |\n",
      "|5445   |325   |4.0   |Minority Report (2002)                       |\n",
      "|173    |109   |2.0   |Judge Dredd (1995)                           |\n",
      "|5952   |488   |5.0   |Lord of the Rings: The Two Towers, The (2002)|\n",
      "+-------+------+------+---------------------------------------------+\n",
      "only showing top 20 rows\n",
      "\n"
     ]
    }
   ],
   "source": [
    "#Checking results after randomizing the dataset.\n",
    "\n",
    "data.show(truncate = False)"
   ]
  },
  {
   "cell_type": "code",
   "execution_count": 84,
   "metadata": {},
   "outputs": [
    {
     "name": "stdout",
     "output_type": "stream",
     "text": [
      "+-------+-----------------+------------------+------------------+--------------------+\n",
      "|summary|          movieId|            userId|            rating|               title|\n",
      "+-------+-----------------+------------------+------------------+--------------------+\n",
      "|  count|           100836|            100836|            100836|              100836|\n",
      "|   mean| 19435.2957177992|326.12756356856676| 3.501556983616962|                null|\n",
      "| stddev|35530.98719870018|    182.6184914635|1.0425292390606349|                null|\n",
      "|    min|                1|                 1|               0.5|\"11'09\"\"01 - Sept...|\n",
      "|    max|           193609|               610|               5.0|À nous la liberté...|\n",
      "+-------+-----------------+------------------+------------------+--------------------+\n",
      "\n"
     ]
    }
   ],
   "source": [
    "#Checking data's summaries.\n",
    "\n",
    "data.describe().show()"
   ]
  },
  {
   "cell_type": "code",
   "execution_count": 85,
   "metadata": {},
   "outputs": [],
   "source": [
    "#Creating a training and test set with 75%/25% ratio.\n",
    "\n",
    "training, test = data.randomSplit([0.75,0.25])"
   ]
  },
  {
   "cell_type": "code",
   "execution_count": 86,
   "metadata": {},
   "outputs": [
    {
     "name": "stdout",
     "output_type": "stream",
     "text": [
      "+-------+------------------+------------------+------------------+--------------------+\n",
      "|summary|           movieId|            userId|            rating|               title|\n",
      "+-------+------------------+------------------+------------------+--------------------+\n",
      "|  count|             75629|             75629|             75629|               75629|\n",
      "|   mean| 19314.37260839096| 325.0635073847334|3.5027568789749965|                null|\n",
      "| stddev|35388.493352585436|182.58459987979663| 1.042964065170905|                null|\n",
      "|    min|                 1|                 1|               0.5|\"11'09\"\"01 - Sept...|\n",
      "|    max|            193609|               610|               5.0|À nous la liberté...|\n",
      "+-------+------------------+------------------+------------------+--------------------+\n",
      "\n"
     ]
    }
   ],
   "source": [
    "#Checking training dataset.\n",
    "\n",
    "training.describe().show()"
   ]
  },
  {
   "cell_type": "code",
   "execution_count": 87,
   "metadata": {},
   "outputs": [
    {
     "name": "stdout",
     "output_type": "stream",
     "text": [
      "+-------+------------------+------------------+------------------+--------------------+\n",
      "|summary|           movieId|            userId|            rating|               title|\n",
      "+-------+------------------+------------------+------------------+--------------------+\n",
      "|  count|             25207|             25207|             25207|               25207|\n",
      "|   mean| 19798.10342365216| 329.3200698218749|3.4979569167294797|                null|\n",
      "| stddev|35953.392138540825|182.68657231809618| 1.041235906132599|                null|\n",
      "|    min|                 1|                 1|               0.5|  'burbs, The (1989)|\n",
      "|    max|            193579|               610|               5.0|¡Three Amigos! (1...|\n",
      "+-------+------------------+------------------+------------------+--------------------+\n",
      "\n"
     ]
    }
   ],
   "source": [
    "#Checking test dataset.\n",
    "\n",
    "test.describe().show()"
   ]
  },
  {
   "cell_type": "code",
   "execution_count": 88,
   "metadata": {},
   "outputs": [],
   "source": [
    "#Alternating Least Squares (ALS) matrix factorization.\n",
    "#clearing an ALS instance. setting features - userId|movieId|rating\n",
    "#tweaking hyper-parameters. maxIter = 10->15, regParam = 0.1 -> 0.17\n",
    "\n",
    "als = ALS(maxIter=15, regParam=0.17, userCol='userId', itemCol='movieId', ratingCol='rating')"
   ]
  },
  {
   "cell_type": "code",
   "execution_count": 89,
   "metadata": {},
   "outputs": [],
   "source": [
    "#Creating a model by fitting the training dataset.\n",
    "\n",
    "model = als.fit(training)"
   ]
  },
  {
   "cell_type": "code",
   "execution_count": 90,
   "metadata": {},
   "outputs": [],
   "source": [
    "#Capturing predictions by transforming the test dataset using the als model previously created.\n",
    "\n",
    "predictions = model.transform(test)"
   ]
  },
  {
   "cell_type": "code",
   "execution_count": 91,
   "metadata": {},
   "outputs": [
    {
     "name": "stdout",
     "output_type": "stream",
     "text": [
      "+-------+------+------+--------------------+----------+\n",
      "|movieId|userId|rating|               title|prediction|\n",
      "+-------+------+------+--------------------+----------+\n",
      "|    471|   436|   3.0|Hudsucker Proxy, ...| 3.3897457|\n",
      "|    471|   599|   2.5|Hudsucker Proxy, ...| 2.7040527|\n",
      "|    471|   603|   4.0|Hudsucker Proxy, ...| 2.7254431|\n",
      "|    471|   182|   4.5|Hudsucker Proxy, ...| 3.7105718|\n",
      "|    471|   474|   3.0|Hudsucker Proxy, ...| 3.2239203|\n",
      "|    471|   500|   1.0|Hudsucker Proxy, ...| 2.5217607|\n",
      "|    471|   411|   4.0|Hudsucker Proxy, ...| 3.3032596|\n",
      "|    471|   287|   4.5|Hudsucker Proxy, ...| 2.4577036|\n",
      "|    833|   609|   3.0|High School High ...|  1.979109|\n",
      "|    833|   608|   0.5|High School High ...| 1.9887727|\n",
      "|   1088|   159|   4.0|Dirty Dancing (1987)|  2.846287|\n",
      "|   1088|   474|   3.5|Dirty Dancing (1987)| 2.9154606|\n",
      "|   1088|   554|   5.0|Dirty Dancing (1987)| 3.8023505|\n",
      "|   1088|   563|   4.0|Dirty Dancing (1987)|  3.385432|\n",
      "|   1088|   489|   4.5|Dirty Dancing (1987)| 3.1083102|\n",
      "|   1088|   387|   1.5|Dirty Dancing (1987)| 2.6355047|\n",
      "|   1088|   594|   4.5|Dirty Dancing (1987)|  4.241376|\n",
      "|   1088|   555|   4.0|Dirty Dancing (1987)| 3.5385952|\n",
      "|   1088|   391|   1.0|Dirty Dancing (1987)| 2.9818528|\n",
      "|   1088|   188|   4.0|Dirty Dancing (1987)| 3.8714387|\n",
      "+-------+------+------+--------------------+----------+\n",
      "only showing top 20 rows\n",
      "\n"
     ]
    }
   ],
   "source": [
    "#Checking how predictions look.\n",
    "\n",
    "predictions.show()"
   ]
  },
  {
   "cell_type": "code",
   "execution_count": 92,
   "metadata": {},
   "outputs": [],
   "source": [
    "#Dropping NaNs if any\n",
    "\n",
    "predictions = predictions.dropna()"
   ]
  },
  {
   "cell_type": "code",
   "execution_count": 93,
   "metadata": {},
   "outputs": [],
   "source": [
    "#Creating an evaluator instance using regression evaluator.\n",
    "#metric 'rmse' is root mean squared error.\n",
    "\n",
    "evaluator = RegressionEvaluator(metricName = 'rmse', labelCol = 'rating', predictionCol = 'prediction')"
   ]
  },
  {
   "cell_type": "code",
   "execution_count": 94,
   "metadata": {},
   "outputs": [],
   "source": [
    "rmse = evaluator.evaluate(predictions)"
   ]
  },
  {
   "cell_type": "code",
   "execution_count": 96,
   "metadata": {},
   "outputs": [
    {
     "name": "stdout",
     "output_type": "stream",
     "text": [
      "RMSE\n",
      "0.8801775204114638\n"
     ]
    }
   ],
   "source": [
    "print('RMSE')\n",
    "print (rmse)\n"
   ]
  },
  {
   "cell_type": "code",
   "execution_count": 108,
   "metadata": {},
   "outputs": [],
   "source": [
    "#Picking up a single user.\n",
    "\n",
    "test_user = test.filter(test['userId']== 144).select(['userId','movieId', 'title'])"
   ]
  },
  {
   "cell_type": "code",
   "execution_count": 109,
   "metadata": {},
   "outputs": [
    {
     "name": "stdout",
     "output_type": "stream",
     "text": [
      "+------+-------+-------------------------------------------+\n",
      "|userId|movieId|title                                      |\n",
      "+------+-------+-------------------------------------------+\n",
      "|144   |2      |Jumanji (1995)                             |\n",
      "|144   |19     |Ace Ventura: When Nature Calls (1995)      |\n",
      "|144   |34     |Babe (1995)                                |\n",
      "|144   |47     |Seven (a.k.a. Se7en) (1995)                |\n",
      "|144   |208    |Waterworld (1995)                          |\n",
      "|144   |223    |Clerks (1994)                              |\n",
      "|144   |231    |Dumb & Dumber (Dumb and Dumber) (1994)     |\n",
      "|144   |364    |Lion King, The (1994)                      |\n",
      "|144   |434    |Cliffhanger (1993)                         |\n",
      "|144   |440    |Dave (1993)                                |\n",
      "|144   |500    |Mrs. Doubtfire (1993)                      |\n",
      "|144   |586    |Home Alone (1990)                          |\n",
      "|144   |588    |Aladdin (1992)                             |\n",
      "|144   |592    |Batman (1989)                              |\n",
      "|144   |597    |Pretty Woman (1990)                        |\n",
      "|144   |733    |Rock, The (1996)                           |\n",
      "|144   |1059   |William Shakespeare's Romeo + Juliet (1996)|\n",
      "|144   |1079   |Fish Called Wanda, A (1988)                |\n",
      "|144   |1214   |Alien (1979)                               |\n",
      "|144   |1246   |Dead Poets Society (1989)                  |\n",
      "+------+-------+-------------------------------------------+\n",
      "only showing top 20 rows\n",
      "\n"
     ]
    }
   ],
   "source": [
    "#Checking the test_user movie lists that he watched and rated.\n",
    "\n",
    "test_user.show(truncate = False)"
   ]
  },
  {
   "cell_type": "code",
   "execution_count": 110,
   "metadata": {},
   "outputs": [],
   "source": [
    "#Transforming the test user data.\n",
    "\n",
    "test_recommendation = model.transform(test_user)"
   ]
  },
  {
   "cell_type": "code",
   "execution_count": 111,
   "metadata": {},
   "outputs": [],
   "source": [
    "#Dropping any NaNs from the recommendation list.\n",
    "\n",
    "test_recommendation = test_recommendation.dropna()"
   ]
  },
  {
   "cell_type": "code",
   "execution_count": 112,
   "metadata": {},
   "outputs": [],
   "source": [
    "# furnishing a movies recommendation list.\n",
    "\n",
    "recommendation_list = test_recommendation.orderBy('prediction', ascending = False)"
   ]
  },
  {
   "cell_type": "code",
   "execution_count": 114,
   "metadata": {},
   "outputs": [
    {
     "name": "stdout",
     "output_type": "stream",
     "text": [
      "+------+-------+-------------------------------------------------------------+----------+\n",
      "|userId|movieId|title                                                        |prediction|\n",
      "+------+-------+-------------------------------------------------------------+----------+\n",
      "|144   |3037   |Little Big Man (1970)                                        |4.107817  |\n",
      "|144   |4973   |Amelie (Fabuleux destin d'Amélie Poulain, Le) (2001)         |4.03395   |\n",
      "|144   |2959   |Fight Club (1999)                                            |4.0271597 |\n",
      "|144   |4226   |Memento (2000)                                               |3.9724803 |\n",
      "|144   |3147   |Green Mile, The (1999)                                       |3.9569452 |\n",
      "|144   |364    |Lion King, The (1994)                                        |3.900621  |\n",
      "|144   |1246   |Dead Poets Society (1989)                                    |3.888335  |\n",
      "|144   |7153   |Lord of the Rings: The Return of the King, The (2003)        |3.854898  |\n",
      "|144   |47     |Seven (a.k.a. Se7en) (1995)                                  |3.839236  |\n",
      "|144   |1214   |Alien (1979)                                                 |3.8261983 |\n",
      "|144   |1961   |Rain Man (1988)                                              |3.8106215 |\n",
      "|144   |8368   |Harry Potter and the Prisoner of Azkaban (2004)              |3.7272553 |\n",
      "|144   |223    |Clerks (1994)                                                |3.7175813 |\n",
      "|144   |1682   |Truman Show, The (1998)                                      |3.706671  |\n",
      "|144   |8873   |Motorcycle Diaries, The (Diarios de motocicleta) (2004)      |3.678687  |\n",
      "|144   |1079   |Fish Called Wanda, A (1988)                                  |3.6775577 |\n",
      "|144   |588    |Aladdin (1992)                                               |3.669776  |\n",
      "|144   |5377   |About a Boy (2002)                                           |3.6367288 |\n",
      "|144   |6539   |Pirates of the Caribbean: The Curse of the Black Pearl (2003)|3.574007  |\n",
      "|144   |2700   |South Park: Bigger, Longer and Uncut (1999)                  |3.5454938 |\n",
      "+------+-------+-------------------------------------------------------------+----------+\n",
      "only showing top 20 rows\n",
      "\n"
     ]
    }
   ],
   "source": [
    "#Output recommendated movies list for test user.\n",
    "\n",
    "recommendation_list.show(truncate = False)"
   ]
  },
  {
   "cell_type": "code",
   "execution_count": null,
   "metadata": {},
   "outputs": [],
   "source": [
    "#Based on our test_user's movie watch list, here are some recommendations."
   ]
  }
 ],
 "metadata": {
  "kernelspec": {
   "display_name": "Python 3",
   "language": "python",
   "name": "python3"
  },
  "language_info": {
   "codemirror_mode": {
    "name": "ipython",
    "version": 3
   },
   "file_extension": ".py",
   "mimetype": "text/x-python",
   "name": "python",
   "nbconvert_exporter": "python",
   "pygments_lexer": "ipython3",
   "version": "3.6.6"
  }
 },
 "nbformat": 4,
 "nbformat_minor": 2
}
